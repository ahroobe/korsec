{
 "cells": [
  {
   "cell_type": "markdown",
   "metadata": {},
   "source": [
    "# ARP Spoofing with iPython"
   ]
  },
  {
   "cell_type": "code",
   "execution_count": 1,
   "metadata": {
    "collapsed": false
   },
   "outputs": [
    {
     "name": "stderr",
     "output_type": "stream",
     "text": [
      "WARNING: No route found for IPv6 destination :: (no default route?)\n",
      "WARNING:scapy.runtime:No route found for IPv6 destination :: (no default route?)\n"
     ]
    }
   ],
   "source": [
    "from scapy.all import *\n",
    "from uuid import getnode\n",
    "import socket\n",
    "import ipaddress\n",
    "import os\n",
    "import sys"
   ]
  },
  {
   "cell_type": "code",
   "execution_count": 2,
   "metadata": {
    "collapsed": true
   },
   "outputs": [],
   "source": [
    "#You should be root.\n",
    "if os.geteuid() != 0:\n",
    "        sys.exit(\"Please run as root\") "
   ]
  },
  {
   "cell_type": "markdown",
   "metadata": {},
   "source": [
    "## 2차 과제부분."
   ]
  },
  {
   "cell_type": "markdown",
   "metadata": {},
   "source": [
    "\tWe need victim's ip, victim's mac and Gateway's ip, mac.\n",
    "\tAlso, my ip and mac.\n",
    "\tWe will find out those through arp packet."
   ]
  },
  {
   "cell_type": "code",
   "execution_count": 13,
   "metadata": {
    "collapsed": false
   },
   "outputs": [],
   "source": [
    "#function to get host's ip, mac address\n",
    "#return ip address, mac address\n",
    "def get_my_address():\n",
    "\n",
    "    #using getnode\n",
    "    mac = \"\".join(c + \":\" if i % 2 else c for i, c in enumerate(hex(getnode())[2:].zfill(12)))[:-1]\n",
    "    s = socket.socket(socket.AF_INET, socket.SOCK_DGRAM)\n",
    "    s.connect((\"gmail.com\",80))\n",
    "    ip = s.getsockname()[0]\n",
    "\n",
    "    return ip, mac\n",
    "\n",
    "#really bad idea. just put 1 at last 4byte, but work nicely in my computer!!\n",
    "def get_gateway_address(ip):\n",
    "\n",
    "    li = ip.split('.')\n",
    "    res = li[0] + '.' + li[1] + '.' + li[2] + '.' + '1'\n",
    " \n",
    "    return res\n",
    "\n",
    "#send arp request packet, and get answer from that to figure out mac address.\n",
    "def get_mac_by_ARP(dstip):\n",
    "    #sr1 is function that can request and response simultaniously.\n",
    "    p=sr1(ARP(op=ARP.who_has, pdst=dstip))\n",
    "             \n",
    "    return p.hwsrc      \n"
   ]
  },
  {
   "cell_type": "code",
   "execution_count": 20,
   "metadata": {
    "collapsed": false
   },
   "outputs": [
    {
     "name": "stderr",
     "output_type": "stream",
     "text": [
      "WARNING: __del__: don't know how to close the file descriptor. Bugs ahead ! Please report this bug.\n",
      "WARNING:scapy.runtime:__del__: don't know how to close the file descriptor. Bugs ahead ! Please report this bug.\n"
     ]
    },
    {
     "name": "stdout",
     "output_type": "stream",
     "text": [
      "\n",
      "Received 2 packets, got 1 answers, remaining 0 packets\n",
      "Your ip address is :  192.168.0.176 \n",
      "Your mac address is :  ac:bc:32:86:66:e9\n",
      "Gateway's ip address is :  192.168.0.1 \n",
      "Gateway's mac address is :  00:08:9f:b5:d0:14\n",
      "Begin emission:\n",
      "Finished to send 1 packets.\n",
      "Please enter Victim's ip address(XXX.XXX.XXX.XXX) : 192.168.0.1\n"
     ]
    },
    {
     "name": "stderr",
     "output_type": "stream",
     "text": [
      "WARNING: __del__: don't know how to close the file descriptor. Bugs ahead ! Please report this bug.\n",
      "WARNING:scapy.runtime:__del__: don't know how to close the file descriptor. Bugs ahead ! Please report this bug.\n"
     ]
    },
    {
     "name": "stdout",
     "output_type": "stream",
     "text": [
      "\n",
      "Received 2 packets, got 1 answers, remaining 0 packets\n",
      "Victim's ip address is :  192.168.0.1 \n",
      "Victim's mac address is :  00:08:9f:b5:d0:14\n",
      "Begin emission:\n",
      "Finished to send 1 packets.\n"
     ]
    }
   ],
   "source": [
    "my_ip, my_mac = get_my_address()\n",
    "gateway_ip = get_gateway_address(my_ip)\n",
    "gateway_mac = get_mac_by_ARP(gateway_ip)\n",
    "\n",
    "print \"Your ip address is : \" , my_ip , \"\\nYour mac address is : \" , my_mac\n",
    "print \"Gateway's ip address is : \" , gateway_ip, \"\\nGateway's mac address is : \", gateway_mac\n",
    "\n",
    "victim_ip = raw_input(\"Please enter Victim's ip address(XXX.XXX.XXX.XXX) : \")\n",
    "victim_mac = get_mac_by_ARP(victim_ip)\n",
    "print \"Victim's ip address is : \", victim_ip, \"\\nVictim's mac address is : \", victim_mac\n",
    "\n",
    "\n"
   ]
  },
  {
   "cell_type": "markdown",
   "metadata": {},
   "source": [
    "## 3차과제"
   ]
  },
  {
   "cell_type": "code",
   "execution_count": null,
   "metadata": {
    "collapsed": true
   },
   "outputs": [],
   "source": []
  }
 ],
 "metadata": {
  "kernelspec": {
   "display_name": "Python 2",
   "language": "python",
   "name": "python2"
  },
  "language_info": {
   "codemirror_mode": {
    "name": "ipython",
    "version": 2
   },
   "file_extension": ".py",
   "mimetype": "text/x-python",
   "name": "python",
   "nbconvert_exporter": "python",
   "pygments_lexer": "ipython2",
   "version": "2.7.11"
  }
 },
 "nbformat": 4,
 "nbformat_minor": 0
}
