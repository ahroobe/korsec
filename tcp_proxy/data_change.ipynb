{
 "cells": [
  {
   "cell_type": "markdown",
   "metadata": {},
   "source": [
    "# in-path상에서 HTTP Reqeust, HTTP Response 조작\n",
    "----"
   ]
  },
  {
   "cell_type": "markdown",
   "metadata": {},
   "source": [
    "개발환경 : OS X\n",
    "\n",
    "----\n",
    "1. 송수신되는 패킷에서 TCP Data Change를 할 때에 패킷의 크기 변경은 없도록 한다(Data 크기가 변경이 되면 골치 아픔).\n",
    "2. 수신된 패킷에서 IP Header, TCP Header, TCP Data의 시작 위치를 구한다.\n",
    "3. TCP Data 영역(HTTP)에서 특정 패턴에 대해서 값을 변경시킨다.\n",
    "4. 프로그램의 구동 결과 daum.net에서 \"마이클 잭슨\"을 검색하였을 경우 기존 Michael이라는 글자가 다른 것(GILBERT)으로 대체되면 성공.\n",
    "\n",
    "----\n",
    "\n",
    "\n",
    "in-path에서의 처리를 위하여 **twisted** library를 쓰기로 했다.\n",
    "\n",
    "**terminal**에서 `pip install twisted` 입력\n",
    "\n",
    "~~No module named zope.interface에러 발생.~~\n",
    "-> pip upgrade후 괜찮아짐"
   ]
  },
  {
   "cell_type": "code",
   "execution_count": 1,
   "metadata": {
    "collapsed": false
   },
   "outputs": [
    {
     "name": "stderr",
     "output_type": "stream",
     "text": [
      ":0: UserWarning: You do not have a working installation of the service_identity module: 'No module named service_identity'.  Please install it from <https://pypi.python.org/pypi/service_identity> and make sure all of its dependencies are satisfied.  Without the service_identity module and a recent enough pyOpenSSL to support it, Twisted can perform only rudimentary TLS client hostname verification.  Many valid certificate/hostname mappings may be rejected.\n"
     ]
    }
   ],
   "source": [
    "import os\n",
    "from twisted.web import proxy, http\n",
    "from twisted.internet import endpoints, reactor, protocol\n",
    "from twisted.python import log\n",
    "import sys\n",
    "import getopt"
   ]
  },
  {
   "cell_type": "markdown",
   "metadata": {},
   "source": [
    "root인지 check."
   ]
  },
  {
   "cell_type": "code",
   "execution_count": 2,
   "metadata": {
    "collapsed": false
   },
   "outputs": [],
   "source": [
    "#You should be root.\n",
    "if os.geteuid() != 0:\n",
    "        sys.exit(\"Please run as root\") "
   ]
  },
  {
   "cell_type": "markdown",
   "metadata": {},
   "source": [
    "---\n",
    "## 1. HTTP Response, Request Message Format"
   ]
  },
  {
   "cell_type": "markdown",
   "metadata": {},
   "source": [
    "---\n",
    "## 2. Proxy server 생성"
   ]
  },
  {
   "cell_type": "markdown",
   "metadata": {},
   "source": [
    "\n",
    "    \n",
    "* 시스템 환경설정 -> 네트워크 -> 고급 -> 프록시\n",
    "* hostName -> localhost\n",
    "* Port# -> 8080\n",
    "\n",
    "![프록시 설정 방법](img/사진1.png \"프록시 설정 방법\")\n",
    "\n",
    "### 1) Web Server에서 오는 Response를 고정적인 페이지로 보내주기\n",
    "    \n",
    "[참조 링크1](http://stackoverflow.com/questions/9465236/python-twisted-proxy-and-modifying-content), [참조 링크2](http://sujitpal.blogspot.kr/2010/03/http-debug-proxy-with-twisted.html)\n",
    "    "
   ]
  },
  {
   "cell_type": "code",
   "execution_count": 3,
   "metadata": {
    "collapsed": true
   },
   "outputs": [],
   "source": [
    "class ProxyClient(proxy.ProxyClient):\n",
    "    \"\"\"Mangle returned header, content here.\n",
    "\n",
    "    Use `self.father` methods to modify request directly.\n",
    "    \"\"\"\n",
    "    \"\"\"\n",
    "    def handleHeader(self, key, value):\n",
    "        # change response header here\n",
    "        log.msg(\"Header: %s: %s\" % (key, value))\n",
    "        proxy.ProxyClient.handleHeader(self, key, value)\n",
    "    \"\"\"\n",
    "    def handleResponsePart(self, buffer):\n",
    "        # change response part here\n",
    "        log.msg(\"Content: %s\" % (buffer[:50],))\n",
    "        print \"Packet Response\"\n",
    "        # make all content upper case\n",
    "        proxy.ProxyClient.handleResponsePart(self, buffer.upper())\n",
    "\n",
    "class ProxyClientFactory(proxy.ProxyClientFactory):\n",
    "    protocol = ProxyClient\n",
    "\n",
    "class ProxyRequest(proxy.ProxyRequest):\n",
    "    protocols = dict(http=ProxyClientFactory)\n",
    "\n",
    "class Proxy(proxy.Proxy):\n",
    "    requestFactory = ProxyRequest\n",
    "\n",
    "class ProxyFactory(http.HTTPFactory):\n",
    "    protocol = Proxy"
   ]
  },
  {
   "cell_type": "code",
   "execution_count": 4,
   "metadata": {
    "collapsed": false
   },
   "outputs": [
    {
     "name": "stdout",
     "output_type": "stream",
     "text": [
      "2016-11-05 20:41:43+0900 [-] Log opened.\n",
      "2016-11-05 20:41:43+0900 [-] ProxyFactory starting on 8080\n",
      "2016-11-05 20:41:43+0900 [-] Starting factory <__main__.ProxyFactory instance at 0x104b67f80>\n",
      "2016-11-05 20:41:54+0900 [-] Received SIGINT, shutting down.\n",
      "2016-11-05 20:41:54+0900 [__main__.ProxyFactory] (TCP Port 8080 Closed)\n",
      "2016-11-05 20:41:54+0900 [-] Stopping factory <__main__.ProxyFactory instance at 0x104b67f80>\n",
      "2016-11-05 20:41:54+0900 [-] Main loop terminated.\n"
     ]
    }
   ],
   "source": [
    "def shutdown(reason, reactor, stopping=[]):\n",
    "        \"\"\"Stop the reactor.\"\"\"\n",
    "        if stopping: return\n",
    "        stopping.append(True)\n",
    "        if reason:\n",
    "            log.msg(reason.value)\n",
    "        reactor.callWhenRunning(reactor.stop)\n",
    "\n",
    "portstr = \"tcp:8080:interface=localhost\" \n",
    "log.startLogging(sys.stdout)\n",
    "endpoint = endpoints.serverFromString(reactor, portstr)\n",
    "d = endpoint.listen(ProxyFactory())\n",
    "d.addErrback(shutdown, reactor)\n",
    "reactor.run()"
   ]
  },
  {
   "cell_type": "markdown",
   "metadata": {},
   "source": [
    "~~~~\n",
    "portstr = \"tcp:8080:interface=localhost\" \n",
    "log.startLogging(sys.stdout)\n",
    "endpoint = endpoints.serverFromString(reactor, portstr)\n",
    "d = endpoint.listen(ProxyFactory())\n",
    "d.addErrback(shutdown, reactor)\n",
    "reactor.run()\n",
    "~~~~\n",
    "으로 실행을 하는데, 한번 돌리고 나서는 restart를 하고 돌려야 하는 것 같다. \n",
    "\n",
    "그렇지 않으면 **ReactorNotRestartable **에러가 발생한다.\n",
    "\n",
    "\n",
    "----\n",
    "\n",
    "### 2) cliet에서 server로 보내는 request packet modify하기\n",
    "\n",
    "[참조링크](http://stackoverflow.com/questions/9063583/python-twisted-proxy-how-to-intercept-packets)"
   ]
  },
  {
   "cell_type": "code",
   "execution_count": 4,
   "metadata": {
    "collapsed": false
   },
   "outputs": [
    {
     "ename": "ReactorNotRestartable",
     "evalue": "",
     "output_type": "error",
     "traceback": [
      "\u001b[0;31m---------------------------------------------------------------------------\u001b[0m",
      "\u001b[0;31mReactorNotRestartable\u001b[0m                     Traceback (most recent call last)",
      "\u001b[0;32m<ipython-input-4-d7a51c181d3a>\u001b[0m in \u001b[0;36m<module>\u001b[0;34m()\u001b[0m\n\u001b[1;32m     15\u001b[0m \u001b[0mfactory\u001b[0m \u001b[0;34m=\u001b[0m \u001b[0mProxyFactory\u001b[0m\u001b[0;34m(\u001b[0m\u001b[0;34m)\u001b[0m\u001b[0;34m\u001b[0m\u001b[0m\n\u001b[1;32m     16\u001b[0m \u001b[0mreactor\u001b[0m\u001b[0;34m.\u001b[0m\u001b[0mlistenTCP\u001b[0m\u001b[0;34m(\u001b[0m\u001b[0;36m8080\u001b[0m\u001b[0;34m,\u001b[0m \u001b[0mfactory\u001b[0m\u001b[0;34m)\u001b[0m\u001b[0;34m\u001b[0m\u001b[0m\n\u001b[0;32m---> 17\u001b[0;31m \u001b[0mreactor\u001b[0m\u001b[0;34m.\u001b[0m\u001b[0mrun\u001b[0m\u001b[0;34m(\u001b[0m\u001b[0;34m)\u001b[0m\u001b[0;34m\u001b[0m\u001b[0m\n\u001b[0m",
      "\u001b[0;32m/Users/ahroobe/anaconda/lib/python2.7/site-packages/twisted/internet/base.pyc\u001b[0m in \u001b[0;36mrun\u001b[0;34m(self, installSignalHandlers)\u001b[0m\n\u001b[1;32m   1192\u001b[0m \u001b[0;34m\u001b[0m\u001b[0m\n\u001b[1;32m   1193\u001b[0m     \u001b[0;32mdef\u001b[0m \u001b[0mrun\u001b[0m\u001b[0;34m(\u001b[0m\u001b[0mself\u001b[0m\u001b[0;34m,\u001b[0m \u001b[0minstallSignalHandlers\u001b[0m\u001b[0;34m=\u001b[0m\u001b[0mTrue\u001b[0m\u001b[0;34m)\u001b[0m\u001b[0;34m:\u001b[0m\u001b[0;34m\u001b[0m\u001b[0m\n\u001b[0;32m-> 1194\u001b[0;31m         \u001b[0mself\u001b[0m\u001b[0;34m.\u001b[0m\u001b[0mstartRunning\u001b[0m\u001b[0;34m(\u001b[0m\u001b[0minstallSignalHandlers\u001b[0m\u001b[0;34m=\u001b[0m\u001b[0minstallSignalHandlers\u001b[0m\u001b[0;34m)\u001b[0m\u001b[0;34m\u001b[0m\u001b[0m\n\u001b[0m\u001b[1;32m   1195\u001b[0m         \u001b[0mself\u001b[0m\u001b[0;34m.\u001b[0m\u001b[0mmainLoop\u001b[0m\u001b[0;34m(\u001b[0m\u001b[0;34m)\u001b[0m\u001b[0;34m\u001b[0m\u001b[0m\n\u001b[1;32m   1196\u001b[0m \u001b[0;34m\u001b[0m\u001b[0m\n",
      "\u001b[0;32m/Users/ahroobe/anaconda/lib/python2.7/site-packages/twisted/internet/base.pyc\u001b[0m in \u001b[0;36mstartRunning\u001b[0;34m(self, installSignalHandlers)\u001b[0m\n\u001b[1;32m   1172\u001b[0m         \"\"\"\n\u001b[1;32m   1173\u001b[0m         \u001b[0mself\u001b[0m\u001b[0;34m.\u001b[0m\u001b[0m_installSignalHandlers\u001b[0m \u001b[0;34m=\u001b[0m \u001b[0minstallSignalHandlers\u001b[0m\u001b[0;34m\u001b[0m\u001b[0m\n\u001b[0;32m-> 1174\u001b[0;31m         \u001b[0mReactorBase\u001b[0m\u001b[0;34m.\u001b[0m\u001b[0mstartRunning\u001b[0m\u001b[0;34m(\u001b[0m\u001b[0mself\u001b[0m\u001b[0;34m)\u001b[0m\u001b[0;34m\u001b[0m\u001b[0m\n\u001b[0m\u001b[1;32m   1175\u001b[0m \u001b[0;34m\u001b[0m\u001b[0m\n\u001b[1;32m   1176\u001b[0m \u001b[0;34m\u001b[0m\u001b[0m\n",
      "\u001b[0;32m/Users/ahroobe/anaconda/lib/python2.7/site-packages/twisted/internet/base.pyc\u001b[0m in \u001b[0;36mstartRunning\u001b[0;34m(self)\u001b[0m\n\u001b[1;32m    682\u001b[0m             \u001b[0;32mraise\u001b[0m \u001b[0merror\u001b[0m\u001b[0;34m.\u001b[0m\u001b[0mReactorAlreadyRunning\u001b[0m\u001b[0;34m(\u001b[0m\u001b[0;34m)\u001b[0m\u001b[0;34m\u001b[0m\u001b[0m\n\u001b[1;32m    683\u001b[0m         \u001b[0;32mif\u001b[0m \u001b[0mself\u001b[0m\u001b[0;34m.\u001b[0m\u001b[0m_startedBefore\u001b[0m\u001b[0;34m:\u001b[0m\u001b[0;34m\u001b[0m\u001b[0m\n\u001b[0;32m--> 684\u001b[0;31m             \u001b[0;32mraise\u001b[0m \u001b[0merror\u001b[0m\u001b[0;34m.\u001b[0m\u001b[0mReactorNotRestartable\u001b[0m\u001b[0;34m(\u001b[0m\u001b[0;34m)\u001b[0m\u001b[0;34m\u001b[0m\u001b[0m\n\u001b[0m\u001b[1;32m    685\u001b[0m         \u001b[0mself\u001b[0m\u001b[0;34m.\u001b[0m\u001b[0m_started\u001b[0m \u001b[0;34m=\u001b[0m \u001b[0mTrue\u001b[0m\u001b[0;34m\u001b[0m\u001b[0m\n\u001b[1;32m    686\u001b[0m         \u001b[0mself\u001b[0m\u001b[0;34m.\u001b[0m\u001b[0m_stopped\u001b[0m \u001b[0;34m=\u001b[0m \u001b[0mFalse\u001b[0m\u001b[0;34m\u001b[0m\u001b[0m\n",
      "\u001b[0;31mReactorNotRestartable\u001b[0m: "
     ]
    }
   ],
   "source": [
    "log.startLogging(sys.stdout)\n",
    "\n",
    "class MyProxy(proxy.Proxy):\n",
    "    def dataReceived(self, data):\n",
    "\n",
    "        #Modify the data here\n",
    "        print data\n",
    "\n",
    "        #perform the default functionality on modified data \n",
    "        return MyProxy.dataReceived(self, data)\n",
    "\n",
    "class ProxyFactory(http.HTTPFactory):\n",
    "    protocol=MyProxy\n",
    "\n",
    "factory = ProxyFactory()\n",
    "reactor.listenTCP(8080, factory)\n",
    "reactor.run()"
   ]
  },
  {
   "cell_type": "code",
   "execution_count": 5,
   "metadata": {
    "collapsed": false
   },
   "outputs": [],
   "source": [
    "class ConsoleWriter():\n",
    "    \"\"\" Write request (on source port) and response (from target host:port) \"\"\"\n",
    "    \"\"\" to console. Also holds on to the \"latest\" data received for output  \"\"\"\n",
    "    \"\"\" into the proxy server's response stream.                            \"\"\"\n",
    "\n",
    "    def write(self, data, type):\n",
    "        if (data):\n",
    "            lines = data.split(\"\\n\")\n",
    "            prefix = \"<\" if type == \"request\" else \">\"\n",
    "            for line in lines:\n",
    "                sys.stdout.write(\"%s %s\\n\" % (prefix, line))\n",
    "        else:\n",
    "            sys.stdout.write(\"No response from server\\n\")\n",
    "\n",
    "\n",
    "class DebugHttpClientProtocol(protocol.Protocol):\n",
    "    \"\"\" Client protocol. Writes out the request to the target HTTP server.\"\"\"\n",
    "    \"\"\" Response is written to stdout on receipt, and back to the server's\"\"\"\n",
    "    \"\"\" transport when the client connection is lost.                     \"\"\"\n",
    "\n",
    "    def __init__(self, serverTransport):\n",
    "        self.serverTransport = serverTransport\n",
    "\n",
    "    def sendMessage(self, data):\n",
    "        self.transport.write(data)\n",
    "  \n",
    "    def dataReceived(self, data):\n",
    "        self.data = data\n",
    "        ConsoleWriter().write(data, \"response\")\n",
    "        self.transport.loseConnection()\n",
    "\n",
    "    def connectionLost(self, reason):\n",
    "        self.serverTransport.write(self.data)\n",
    "        self.serverTransport.loseConnection()\n",
    "\n",
    "\n",
    "class DebugHttpServerProtocol(protocol.Protocol):\n",
    "    \"\"\" Server Protocol. Handles data received from client application.   \"\"\"\n",
    "    \"\"\" Writes the data to console, then creates a proxy client component \"\"\"\n",
    "    \"\"\" and sends the data through, then terminates the client and server \"\"\"\n",
    "    \"\"\" connections.                                                      \"\"\"\n",
    "\n",
    "    def dataReceived(self, data):\n",
    "        self.data = data\n",
    "        ConsoleWriter().write(self.data, \"request\")\n",
    "        client = protocol.ClientCreator(reactor, DebugHttpClientProtocol, self.transport)\n",
    "        d = client.connectTCP(self.factory.targetHost, self.factory.targetPort)\n",
    "        d.addCallback(self.forwardToClient, client)\n",
    "\n",
    "    def forwardToClient(self, client, data):\n",
    "        client.sendMessage(self.data)\n",
    "\n",
    "\n",
    "class DebugHttpServerFactory(protocol.ServerFactory):\n",
    "    \"\"\" Server Factory. A holder for the protocol and for user-supplied args \"\"\"\n",
    "\n",
    "    protocol = DebugHttpServerProtocol\n",
    "\n",
    "    def __init__(self, targetHost, targetPort):\n",
    "        self.targetHost = targetHost\n",
    "        self.targetPort = targetPort\n",
    "\n"
   ]
  },
  {
   "cell_type": "code",
   "execution_count": 8,
   "metadata": {
    "collapsed": false
   },
   "outputs": [
    {
     "ename": "GetoptError",
     "evalue": "option -f not recognized",
     "output_type": "error",
     "traceback": [
      "\u001b[0;31m---------------------------------------------------------------------------\u001b[0m",
      "\u001b[0;31mGetoptError\u001b[0m                               Traceback (most recent call last)",
      "\u001b[0;32m<ipython-input-8-4ba4be400e6c>\u001b[0m in \u001b[0;36m<module>\u001b[0;34m()\u001b[0m\n\u001b[0;32m----> 1\u001b[0;31m \u001b[0;34m(\u001b[0m\u001b[0mopts\u001b[0m\u001b[0;34m,\u001b[0m \u001b[0margs\u001b[0m\u001b[0;34m)\u001b[0m \u001b[0;34m=\u001b[0m \u001b[0mgetopt\u001b[0m\u001b[0;34m.\u001b[0m\u001b[0mgetopt\u001b[0m\u001b[0;34m(\u001b[0m\u001b[0msys\u001b[0m\u001b[0;34m.\u001b[0m\u001b[0margv\u001b[0m\u001b[0;34m[\u001b[0m\u001b[0;36m1\u001b[0m\u001b[0;34m:\u001b[0m\u001b[0;34m]\u001b[0m\u001b[0;34m,\u001b[0m \u001b[0;34m\"s:t:h\"\u001b[0m\u001b[0;34m,\u001b[0m\u001b[0;34m[\u001b[0m\u001b[0;34m\"source=\"\u001b[0m\u001b[0;34m,\u001b[0m \u001b[0;34m\"target=\"\u001b[0m\u001b[0;34m,\u001b[0m \u001b[0;34m\"help\"\u001b[0m\u001b[0;34m]\u001b[0m\u001b[0;34m)\u001b[0m\u001b[0;34m\u001b[0m\u001b[0m\n\u001b[0m\u001b[1;32m      2\u001b[0m \u001b[0msourcePort\u001b[0m\u001b[0;34m,\u001b[0m \u001b[0mtargetHost\u001b[0m\u001b[0;34m,\u001b[0m \u001b[0mtargetPort\u001b[0m \u001b[0;34m=\u001b[0m \u001b[0mNone\u001b[0m\u001b[0;34m,\u001b[0m \u001b[0mNone\u001b[0m\u001b[0;34m,\u001b[0m \u001b[0mNone\u001b[0m\u001b[0;34m\u001b[0m\u001b[0m\n\u001b[1;32m      3\u001b[0m \u001b[0;32mfor\u001b[0m \u001b[0moption\u001b[0m\u001b[0;34m,\u001b[0m \u001b[0margval\u001b[0m \u001b[0;32min\u001b[0m \u001b[0mopts\u001b[0m\u001b[0;34m:\u001b[0m\u001b[0;34m\u001b[0m\u001b[0m\n\u001b[1;32m      4\u001b[0m     \u001b[0;32mif\u001b[0m \u001b[0;34m(\u001b[0m\u001b[0moption\u001b[0m \u001b[0;32min\u001b[0m \u001b[0;34m(\u001b[0m\u001b[0;34m\"-h\"\u001b[0m\u001b[0;34m,\u001b[0m \u001b[0;34m\"--help\"\u001b[0m\u001b[0;34m)\u001b[0m\u001b[0;34m)\u001b[0m\u001b[0;34m:\u001b[0m\u001b[0;34m\u001b[0m\u001b[0m\n\u001b[1;32m      5\u001b[0m         \u001b[0musage\u001b[0m\u001b[0;34m(\u001b[0m\u001b[0;34m)\u001b[0m\u001b[0;34m\u001b[0m\u001b[0m\n",
      "\u001b[0;32m/Users/ahroobe/anaconda/lib/python2.7/getopt.pyc\u001b[0m in \u001b[0;36mgetopt\u001b[0;34m(args, shortopts, longopts)\u001b[0m\n\u001b[1;32m     88\u001b[0m             \u001b[0mopts\u001b[0m\u001b[0;34m,\u001b[0m \u001b[0margs\u001b[0m \u001b[0;34m=\u001b[0m \u001b[0mdo_longs\u001b[0m\u001b[0;34m(\u001b[0m\u001b[0mopts\u001b[0m\u001b[0;34m,\u001b[0m \u001b[0margs\u001b[0m\u001b[0;34m[\u001b[0m\u001b[0;36m0\u001b[0m\u001b[0;34m]\u001b[0m\u001b[0;34m[\u001b[0m\u001b[0;36m2\u001b[0m\u001b[0;34m:\u001b[0m\u001b[0;34m]\u001b[0m\u001b[0;34m,\u001b[0m \u001b[0mlongopts\u001b[0m\u001b[0;34m,\u001b[0m \u001b[0margs\u001b[0m\u001b[0;34m[\u001b[0m\u001b[0;36m1\u001b[0m\u001b[0;34m:\u001b[0m\u001b[0;34m]\u001b[0m\u001b[0;34m)\u001b[0m\u001b[0;34m\u001b[0m\u001b[0m\n\u001b[1;32m     89\u001b[0m         \u001b[0;32melse\u001b[0m\u001b[0;34m:\u001b[0m\u001b[0;34m\u001b[0m\u001b[0m\n\u001b[0;32m---> 90\u001b[0;31m             \u001b[0mopts\u001b[0m\u001b[0;34m,\u001b[0m \u001b[0margs\u001b[0m \u001b[0;34m=\u001b[0m \u001b[0mdo_shorts\u001b[0m\u001b[0;34m(\u001b[0m\u001b[0mopts\u001b[0m\u001b[0;34m,\u001b[0m \u001b[0margs\u001b[0m\u001b[0;34m[\u001b[0m\u001b[0;36m0\u001b[0m\u001b[0;34m]\u001b[0m\u001b[0;34m[\u001b[0m\u001b[0;36m1\u001b[0m\u001b[0;34m:\u001b[0m\u001b[0;34m]\u001b[0m\u001b[0;34m,\u001b[0m \u001b[0mshortopts\u001b[0m\u001b[0;34m,\u001b[0m \u001b[0margs\u001b[0m\u001b[0;34m[\u001b[0m\u001b[0;36m1\u001b[0m\u001b[0;34m:\u001b[0m\u001b[0;34m]\u001b[0m\u001b[0;34m)\u001b[0m\u001b[0;34m\u001b[0m\u001b[0m\n\u001b[0m\u001b[1;32m     91\u001b[0m \u001b[0;34m\u001b[0m\u001b[0m\n\u001b[1;32m     92\u001b[0m     \u001b[0;32mreturn\u001b[0m \u001b[0mopts\u001b[0m\u001b[0;34m,\u001b[0m \u001b[0margs\u001b[0m\u001b[0;34m\u001b[0m\u001b[0m\n",
      "\u001b[0;32m/Users/ahroobe/anaconda/lib/python2.7/getopt.pyc\u001b[0m in \u001b[0;36mdo_shorts\u001b[0;34m(opts, optstring, shortopts, args)\u001b[0m\n\u001b[1;32m    188\u001b[0m     \u001b[0;32mwhile\u001b[0m \u001b[0moptstring\u001b[0m \u001b[0;34m!=\u001b[0m \u001b[0;34m''\u001b[0m\u001b[0;34m:\u001b[0m\u001b[0;34m\u001b[0m\u001b[0m\n\u001b[1;32m    189\u001b[0m         \u001b[0mopt\u001b[0m\u001b[0;34m,\u001b[0m \u001b[0moptstring\u001b[0m \u001b[0;34m=\u001b[0m \u001b[0moptstring\u001b[0m\u001b[0;34m[\u001b[0m\u001b[0;36m0\u001b[0m\u001b[0;34m]\u001b[0m\u001b[0;34m,\u001b[0m \u001b[0moptstring\u001b[0m\u001b[0;34m[\u001b[0m\u001b[0;36m1\u001b[0m\u001b[0;34m:\u001b[0m\u001b[0;34m]\u001b[0m\u001b[0;34m\u001b[0m\u001b[0m\n\u001b[0;32m--> 190\u001b[0;31m         \u001b[0;32mif\u001b[0m \u001b[0mshort_has_arg\u001b[0m\u001b[0;34m(\u001b[0m\u001b[0mopt\u001b[0m\u001b[0;34m,\u001b[0m \u001b[0mshortopts\u001b[0m\u001b[0;34m)\u001b[0m\u001b[0;34m:\u001b[0m\u001b[0;34m\u001b[0m\u001b[0m\n\u001b[0m\u001b[1;32m    191\u001b[0m             \u001b[0;32mif\u001b[0m \u001b[0moptstring\u001b[0m \u001b[0;34m==\u001b[0m \u001b[0;34m''\u001b[0m\u001b[0;34m:\u001b[0m\u001b[0;34m\u001b[0m\u001b[0m\n\u001b[1;32m    192\u001b[0m                 \u001b[0;32mif\u001b[0m \u001b[0;32mnot\u001b[0m \u001b[0margs\u001b[0m\u001b[0;34m:\u001b[0m\u001b[0;34m\u001b[0m\u001b[0m\n",
      "\u001b[0;32m/Users/ahroobe/anaconda/lib/python2.7/getopt.pyc\u001b[0m in \u001b[0;36mshort_has_arg\u001b[0;34m(opt, shortopts)\u001b[0m\n\u001b[1;32m    204\u001b[0m         \u001b[0;32mif\u001b[0m \u001b[0mopt\u001b[0m \u001b[0;34m==\u001b[0m \u001b[0mshortopts\u001b[0m\u001b[0;34m[\u001b[0m\u001b[0mi\u001b[0m\u001b[0;34m]\u001b[0m \u001b[0;34m!=\u001b[0m \u001b[0;34m':'\u001b[0m\u001b[0;34m:\u001b[0m\u001b[0;34m\u001b[0m\u001b[0m\n\u001b[1;32m    205\u001b[0m             \u001b[0;32mreturn\u001b[0m \u001b[0mshortopts\u001b[0m\u001b[0;34m.\u001b[0m\u001b[0mstartswith\u001b[0m\u001b[0;34m(\u001b[0m\u001b[0;34m':'\u001b[0m\u001b[0;34m,\u001b[0m \u001b[0mi\u001b[0m\u001b[0;34m+\u001b[0m\u001b[0;36m1\u001b[0m\u001b[0;34m)\u001b[0m\u001b[0;34m\u001b[0m\u001b[0m\n\u001b[0;32m--> 206\u001b[0;31m     \u001b[0;32mraise\u001b[0m \u001b[0mGetoptError\u001b[0m\u001b[0;34m(\u001b[0m\u001b[0;34m'option -%s not recognized'\u001b[0m \u001b[0;34m%\u001b[0m \u001b[0mopt\u001b[0m\u001b[0;34m,\u001b[0m \u001b[0mopt\u001b[0m\u001b[0;34m)\u001b[0m\u001b[0;34m\u001b[0m\u001b[0m\n\u001b[0m\u001b[1;32m    207\u001b[0m \u001b[0;34m\u001b[0m\u001b[0m\n\u001b[1;32m    208\u001b[0m \u001b[0;32mif\u001b[0m \u001b[0m__name__\u001b[0m \u001b[0;34m==\u001b[0m \u001b[0;34m'__main__'\u001b[0m\u001b[0;34m:\u001b[0m\u001b[0;34m\u001b[0m\u001b[0m\n",
      "\u001b[0;31mGetoptError\u001b[0m: option -f not recognized"
     ]
    }
   ],
   "source": [
    "sourcePort, targetHost, targetPort = 80, None, None\n",
    "\n",
    "# start twisted reactor\n",
    "reactor.listenTCP(sourcePort,DebugHttpServerFactory(targetHost, int(targetPort)))\n",
    "reactor.run()"
   ]
  },
  {
   "cell_type": "code",
   "execution_count": null,
   "metadata": {
    "collapsed": true
   },
   "outputs": [],
   "source": []
  }
 ],
 "metadata": {
  "kernelspec": {
   "display_name": "Python 2",
   "language": "python",
   "name": "python2"
  },
  "language_info": {
   "codemirror_mode": {
    "name": "ipython",
    "version": 2
   },
   "file_extension": ".py",
   "mimetype": "text/x-python",
   "name": "python",
   "nbconvert_exporter": "python",
   "pygments_lexer": "ipython2",
   "version": "2.7.11"
  }
 },
 "nbformat": 4,
 "nbformat_minor": 0
}
